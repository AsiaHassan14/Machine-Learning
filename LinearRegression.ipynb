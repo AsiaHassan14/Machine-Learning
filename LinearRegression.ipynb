{
  "nbformat": 4,
  "nbformat_minor": 0,
  "metadata": {
    "colab": {
      "provenance": [],
      "authorship_tag": "ABX9TyPYqaAB/ScYLhzhyNpz2OkG",
      "include_colab_link": true
    },
    "kernelspec": {
      "name": "python3",
      "display_name": "Python 3"
    },
    "language_info": {
      "name": "python"
    }
  },
  "cells": [
    {
      "cell_type": "markdown",
      "metadata": {
        "id": "view-in-github",
        "colab_type": "text"
      },
      "source": [
        "<a href=\"https://colab.research.google.com/github/AsiaHassan14/Machine-Learning/blob/main/LinearRegression.ipynb\" target=\"_parent\"><img src=\"https://colab.research.google.com/assets/colab-badge.svg\" alt=\"Open In Colab\"/></a>"
      ]
    },
    {
      "cell_type": "code",
      "execution_count": 10,
      "metadata": {
        "colab": {
          "base_uri": "https://localhost:8080/"
        },
        "id": "6vXKh1_zgKYz",
        "outputId": "197607ac-1712-44df-ae17-7e61e2fdb0cc"
      },
      "outputs": [
        {
          "output_type": "stream",
          "name": "stdout",
          "text": [
            "[[2]]\n",
            "[7.]\n"
          ]
        }
      ],
      "source": [
        "import numpy as np\n",
        "x = np.array([[1],[2],[3],[4],[5]])\n",
        "y = np.array([6,7,8,9,10])\n",
        "\n",
        "from sklearn.model_selection import train_test_split\n",
        "x_train,x_test,y_train,y_test = train_test_split(x,y, test_size = 0.2, random_state = 42)\n",
        "\n",
        "\n",
        "from sklearn.linear_model import LinearRegression\n",
        "model = LinearRegression()\n",
        "model.fit(x_train,y_train)\n",
        "print(x_test)\n",
        "#test = np.array([[14],[16]])\n",
        "\n",
        "pred_y = model.predict(x_test)\n",
        "print(pred_y)\n",
        "\n"
      ]
    },
    {
      "cell_type": "code",
      "source": [
        "#define dataset\n",
        "import numpy as np\n",
        "\n",
        "x = np.array([[1],[2],[3],[4],[5]])\n",
        "y = np.array([6,7,8,9,10])\n",
        "\n",
        "#model import\n",
        "from sklearn.linear_model import LinearRegression\n",
        "\n",
        "#assign variable\n",
        "model = LinearRegression()\n",
        "\n",
        "#model.fit #for training\n",
        "model.fit(x,y)\n",
        "\n",
        "#prediction\n",
        "test = np.array([[12],[13]])\n",
        "pred_y = model.predict(test)\n",
        "print(pred_y)"
      ],
      "metadata": {
        "colab": {
          "base_uri": "https://localhost:8080/"
        },
        "id": "_2-nrUzVvL-P",
        "outputId": "eff4f24f-1a10-4cec-8c35-d2ceccc6cdbb"
      },
      "execution_count": 11,
      "outputs": [
        {
          "output_type": "stream",
          "name": "stdout",
          "text": [
            "[17. 18.]\n"
          ]
        }
      ]
    }
  ]
}